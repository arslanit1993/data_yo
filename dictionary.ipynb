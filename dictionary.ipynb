{
 "cells": [
  {
   "cell_type": "code",
   "execution_count": 33,
   "metadata": {},
   "outputs": [
    {
     "name": "stdout",
     "output_type": "stream",
     "text": [
      "[{'word': 'i', 'translation': 'ben', 'rating': 16}, {'word': 'you', 'translation': 'sen', 'rating': 16}, {'word': 'nice', 'translation': 'cute', 'rating': 0}]\n"
     ]
    }
   ],
   "source": [
    "\n",
    "import json\n",
    "from file import*\n",
    "\n",
    "\n",
    "#GET THE DICTIONARY \n",
    "my_new_rec = json.load((open(\"My_Record.json\")))\n",
    "print(my_new_rec)\n",
    "\n",
    "\n",
    "\n",
    "#WRITE TO THE DICTIONARY \n",
    "def writer(arg_1):\n",
    "    j = json.dumps(my_new_rec)\n",
    "    with open(\"My_Record.json\", \"w\") as f:\n",
    "        f.write(j)\n",
    "        f.close()\n",
    "\n",
    "\n",
    "#WORD ADDER \n",
    "\n",
    "\n",
    "\n",
    "\n",
    "\n",
    "#INTERACT WITH THE USER    \t\t\t\n",
    "def interactor(arg_1):\n",
    "    the_ratings = []\n",
    "    the_lowest = 0\n",
    "    for i in range(len(arg_1)):\n",
    "        the_ratings.append(arg_1[i][\"rating\"])    \n",
    "    \n",
    "    the_lowest = min(the_ratings)\n",
    "    \n",
    "\n",
    "    #ASK_INCREMENT_THE_LOWEST_RATING \n",
    "    for i in range(len(arg_1)):\n",
    "        if arg_1[i][\"rating\"] == the_lowest:\n",
    "            a = input(f\"{arg_1[i]['word']}, \\n\")\n",
    "            if a == arg_1[i][\"translation\"]:\n",
    "                arg_1[i][\"rating\"] = arg_1[i][\"rating\"] + 1\n",
    "                print(\"yaaay!\",arg_1[i][\"word\"], \" = \", a)\n",
    "    #NEW WORD AND FINISH\n",
    "            elif a == \"F\":\n",
    "                return writer(arg_1)\n",
    "            elif a == \"N\":\n",
    "                add_new_word(arg_1)\n",
    "                                        \n",
    "                    \n",
    "            else:\n",
    "                arg_1[i][\"rating\"] = arg_1[i][\"rating\"] - 1\n",
    "    \n",
    "  \n",
    "    return interactor(arg_1)\n",
    "                \n",
    "\n",
    "\n",
    "\n",
    "# #Create json \n",
    "# def json_append_write(the_dict):\n",
    "\n",
    "\n",
    "\n",
    "    \n",
    "\n",
    "# #WRITE INTO THE FILE \n",
    "# def append_write(arg_1):\n",
    "\n",
    "# \twith open('file.py','w') as list:\n",
    "# \t\tlist.write(\"a = \")\n",
    "\n",
    "\n",
    "# \twith open('file.py','a') as list:\n",
    "# \t\tlist.write(str(a))\n",
    "\n",
    "\n",
    "def add_new_word(a):\n",
    "    d = {}\n",
    "    d[\"word\"] = input(\"Enter the Word in ENGLISH: \")\n",
    "    \n",
    "    #Check if we have it in the list\n",
    "    for i in range(len(a)):\n",
    "        if a[i][\"word\"] == d[\"word\"]:\n",
    "            return f\"Sorry The word {d['word']} is already in the list\"\n",
    "    d[\"translation\"] = input(f\"Enter the Translation of the word {d['word']}\")\n",
    "    d[\"rating\"] = 0\n",
    "    get_input = input((d['word'].lower(), \" with the translation \", d[\"translation\"].lower(), \" has been added to the list, press y to confirm or n to decline\"))\n",
    "    if get_input.lower() == \"y\":\n",
    "        a.append(d)\n",
    "        print(a)\n",
    "\n",
    "\n",
    "    \n",
    "\n",
    "\n",
    "    \n",
    "\n"
   ]
  },
  {
   "cell_type": "code",
   "execution_count": 34,
   "metadata": {},
   "outputs": [
    {
     "name": "stdout",
     "output_type": "stream",
     "text": [
      "[{'word': 'i', 'translation': 'ben', 'rating': 16}, {'word': 'you', 'translation': 'sen', 'rating': 16}, {'word': 'nice', 'translation': 'cute', 'rating': -1}]\n",
      "[{'word': 'i', 'translation': 'ben', 'rating': 16}, {'word': 'you', 'translation': 'sen', 'rating': 16}, {'word': 'nice', 'translation': 'cute', 'rating': -2}]\n",
      "yaaay! nice  =  cute\n",
      "[{'word': 'i', 'translation': 'ben', 'rating': 16}, {'word': 'you', 'translation': 'sen', 'rating': 16}, {'word': 'nice', 'translation': 'cute', 'rating': -1}]\n",
      "yaaay! nice  =  cute\n",
      "[{'word': 'i', 'translation': 'ben', 'rating': 16}, {'word': 'you', 'translation': 'sen', 'rating': 16}, {'word': 'nice', 'translation': 'cute', 'rating': 0}]\n",
      "yaaay! nice  =  cute\n",
      "[{'word': 'i', 'translation': 'ben', 'rating': 16}, {'word': 'you', 'translation': 'sen', 'rating': 16}, {'word': 'nice', 'translation': 'cute', 'rating': 1}]\n",
      "yaaay! nice  =  cute\n",
      "[{'word': 'i', 'translation': 'ben', 'rating': 16}, {'word': 'you', 'translation': 'sen', 'rating': 16}, {'word': 'nice', 'translation': 'cute', 'rating': 2}]\n",
      "yaaay! nice  =  cute\n",
      "[{'word': 'i', 'translation': 'ben', 'rating': 16}, {'word': 'you', 'translation': 'sen', 'rating': 16}, {'word': 'nice', 'translation': 'cute', 'rating': 3}]\n"
     ]
    },
    {
     "ename": "KeyboardInterrupt",
     "evalue": "Interrupted by user",
     "output_type": "error",
     "traceback": [
      "\u001b[0;31m---------------------------------------------------------------------------\u001b[0m",
      "\u001b[0;31mKeyboardInterrupt\u001b[0m                         Traceback (most recent call last)",
      "\u001b[0;32m/tmp/ipykernel_21668/2811991733.py\u001b[0m in \u001b[0;36m<module>\u001b[0;34m\u001b[0m\n\u001b[0;32m----> 1\u001b[0;31m \u001b[0minteractor\u001b[0m\u001b[0;34m(\u001b[0m\u001b[0mmy_new_rec\u001b[0m\u001b[0;34m)\u001b[0m\u001b[0;34m\u001b[0m\u001b[0;34m\u001b[0m\u001b[0m\n\u001b[0m",
      "\u001b[0;32m/tmp/ipykernel_21668/296427680.py\u001b[0m in \u001b[0;36minteractor\u001b[0;34m(arg_1)\u001b[0m\n\u001b[1;32m     51\u001b[0m \u001b[0;34m\u001b[0m\u001b[0m\n\u001b[1;32m     52\u001b[0m     \u001b[0mprint\u001b[0m\u001b[0;34m(\u001b[0m\u001b[0marg_1\u001b[0m\u001b[0;34m)\u001b[0m\u001b[0;34m\u001b[0m\u001b[0;34m\u001b[0m\u001b[0m\n\u001b[0;32m---> 53\u001b[0;31m     \u001b[0;32mreturn\u001b[0m \u001b[0minteractor\u001b[0m\u001b[0;34m(\u001b[0m\u001b[0marg_1\u001b[0m\u001b[0;34m)\u001b[0m\u001b[0;34m\u001b[0m\u001b[0;34m\u001b[0m\u001b[0m\n\u001b[0m\u001b[1;32m     54\u001b[0m \u001b[0;34m\u001b[0m\u001b[0m\n\u001b[1;32m     55\u001b[0m \u001b[0;34m\u001b[0m\u001b[0m\n",
      "\u001b[0;32m/tmp/ipykernel_21668/296427680.py\u001b[0m in \u001b[0;36minteractor\u001b[0;34m(arg_1)\u001b[0m\n\u001b[1;32m     51\u001b[0m \u001b[0;34m\u001b[0m\u001b[0m\n\u001b[1;32m     52\u001b[0m     \u001b[0mprint\u001b[0m\u001b[0;34m(\u001b[0m\u001b[0marg_1\u001b[0m\u001b[0;34m)\u001b[0m\u001b[0;34m\u001b[0m\u001b[0;34m\u001b[0m\u001b[0m\n\u001b[0;32m---> 53\u001b[0;31m     \u001b[0;32mreturn\u001b[0m \u001b[0minteractor\u001b[0m\u001b[0;34m(\u001b[0m\u001b[0marg_1\u001b[0m\u001b[0;34m)\u001b[0m\u001b[0;34m\u001b[0m\u001b[0;34m\u001b[0m\u001b[0m\n\u001b[0m\u001b[1;32m     54\u001b[0m \u001b[0;34m\u001b[0m\u001b[0m\n\u001b[1;32m     55\u001b[0m \u001b[0;34m\u001b[0m\u001b[0m\n",
      "\u001b[0;32m/tmp/ipykernel_21668/296427680.py\u001b[0m in \u001b[0;36minteractor\u001b[0;34m(arg_1)\u001b[0m\n\u001b[1;32m     51\u001b[0m \u001b[0;34m\u001b[0m\u001b[0m\n\u001b[1;32m     52\u001b[0m     \u001b[0mprint\u001b[0m\u001b[0;34m(\u001b[0m\u001b[0marg_1\u001b[0m\u001b[0;34m)\u001b[0m\u001b[0;34m\u001b[0m\u001b[0;34m\u001b[0m\u001b[0m\n\u001b[0;32m---> 53\u001b[0;31m     \u001b[0;32mreturn\u001b[0m \u001b[0minteractor\u001b[0m\u001b[0;34m(\u001b[0m\u001b[0marg_1\u001b[0m\u001b[0;34m)\u001b[0m\u001b[0;34m\u001b[0m\u001b[0;34m\u001b[0m\u001b[0m\n\u001b[0m\u001b[1;32m     54\u001b[0m \u001b[0;34m\u001b[0m\u001b[0m\n\u001b[1;32m     55\u001b[0m \u001b[0;34m\u001b[0m\u001b[0m\n",
      "\u001b[0;32m/tmp/ipykernel_21668/296427680.py\u001b[0m in \u001b[0;36minteractor\u001b[0;34m(arg_1)\u001b[0m\n\u001b[1;32m     51\u001b[0m \u001b[0;34m\u001b[0m\u001b[0m\n\u001b[1;32m     52\u001b[0m     \u001b[0mprint\u001b[0m\u001b[0;34m(\u001b[0m\u001b[0marg_1\u001b[0m\u001b[0;34m)\u001b[0m\u001b[0;34m\u001b[0m\u001b[0;34m\u001b[0m\u001b[0m\n\u001b[0;32m---> 53\u001b[0;31m     \u001b[0;32mreturn\u001b[0m \u001b[0minteractor\u001b[0m\u001b[0;34m(\u001b[0m\u001b[0marg_1\u001b[0m\u001b[0;34m)\u001b[0m\u001b[0;34m\u001b[0m\u001b[0;34m\u001b[0m\u001b[0m\n\u001b[0m\u001b[1;32m     54\u001b[0m \u001b[0;34m\u001b[0m\u001b[0m\n\u001b[1;32m     55\u001b[0m \u001b[0;34m\u001b[0m\u001b[0m\n",
      "\u001b[0;32m/tmp/ipykernel_21668/296427680.py\u001b[0m in \u001b[0;36minteractor\u001b[0;34m(arg_1)\u001b[0m\n\u001b[1;32m     51\u001b[0m \u001b[0;34m\u001b[0m\u001b[0m\n\u001b[1;32m     52\u001b[0m     \u001b[0mprint\u001b[0m\u001b[0;34m(\u001b[0m\u001b[0marg_1\u001b[0m\u001b[0;34m)\u001b[0m\u001b[0;34m\u001b[0m\u001b[0;34m\u001b[0m\u001b[0m\n\u001b[0;32m---> 53\u001b[0;31m     \u001b[0;32mreturn\u001b[0m \u001b[0minteractor\u001b[0m\u001b[0;34m(\u001b[0m\u001b[0marg_1\u001b[0m\u001b[0;34m)\u001b[0m\u001b[0;34m\u001b[0m\u001b[0;34m\u001b[0m\u001b[0m\n\u001b[0m\u001b[1;32m     54\u001b[0m \u001b[0;34m\u001b[0m\u001b[0m\n\u001b[1;32m     55\u001b[0m \u001b[0;34m\u001b[0m\u001b[0m\n",
      "\u001b[0;32m/tmp/ipykernel_21668/296427680.py\u001b[0m in \u001b[0;36minteractor\u001b[0;34m(arg_1)\u001b[0m\n\u001b[1;32m     51\u001b[0m \u001b[0;34m\u001b[0m\u001b[0m\n\u001b[1;32m     52\u001b[0m     \u001b[0mprint\u001b[0m\u001b[0;34m(\u001b[0m\u001b[0marg_1\u001b[0m\u001b[0;34m)\u001b[0m\u001b[0;34m\u001b[0m\u001b[0;34m\u001b[0m\u001b[0m\n\u001b[0;32m---> 53\u001b[0;31m     \u001b[0;32mreturn\u001b[0m \u001b[0minteractor\u001b[0m\u001b[0;34m(\u001b[0m\u001b[0marg_1\u001b[0m\u001b[0;34m)\u001b[0m\u001b[0;34m\u001b[0m\u001b[0;34m\u001b[0m\u001b[0m\n\u001b[0m\u001b[1;32m     54\u001b[0m \u001b[0;34m\u001b[0m\u001b[0m\n\u001b[1;32m     55\u001b[0m \u001b[0;34m\u001b[0m\u001b[0m\n",
      "\u001b[0;32m/tmp/ipykernel_21668/296427680.py\u001b[0m in \u001b[0;36minteractor\u001b[0;34m(arg_1)\u001b[0m\n\u001b[1;32m     51\u001b[0m \u001b[0;34m\u001b[0m\u001b[0m\n\u001b[1;32m     52\u001b[0m     \u001b[0mprint\u001b[0m\u001b[0;34m(\u001b[0m\u001b[0marg_1\u001b[0m\u001b[0;34m)\u001b[0m\u001b[0;34m\u001b[0m\u001b[0;34m\u001b[0m\u001b[0m\n\u001b[0;32m---> 53\u001b[0;31m     \u001b[0;32mreturn\u001b[0m \u001b[0minteractor\u001b[0m\u001b[0;34m(\u001b[0m\u001b[0marg_1\u001b[0m\u001b[0;34m)\u001b[0m\u001b[0;34m\u001b[0m\u001b[0;34m\u001b[0m\u001b[0m\n\u001b[0m\u001b[1;32m     54\u001b[0m \u001b[0;34m\u001b[0m\u001b[0m\n\u001b[1;32m     55\u001b[0m \u001b[0;34m\u001b[0m\u001b[0m\n",
      "\u001b[0;32m/tmp/ipykernel_21668/296427680.py\u001b[0m in \u001b[0;36minteractor\u001b[0;34m(arg_1)\u001b[0m\n\u001b[1;32m     36\u001b[0m     \u001b[0;32mfor\u001b[0m \u001b[0mi\u001b[0m \u001b[0;32min\u001b[0m \u001b[0mrange\u001b[0m\u001b[0;34m(\u001b[0m\u001b[0mlen\u001b[0m\u001b[0;34m(\u001b[0m\u001b[0marg_1\u001b[0m\u001b[0;34m)\u001b[0m\u001b[0;34m)\u001b[0m\u001b[0;34m:\u001b[0m\u001b[0;34m\u001b[0m\u001b[0;34m\u001b[0m\u001b[0m\n\u001b[1;32m     37\u001b[0m         \u001b[0;32mif\u001b[0m \u001b[0marg_1\u001b[0m\u001b[0;34m[\u001b[0m\u001b[0mi\u001b[0m\u001b[0;34m]\u001b[0m\u001b[0;34m[\u001b[0m\u001b[0;34m\"rating\"\u001b[0m\u001b[0;34m]\u001b[0m \u001b[0;34m==\u001b[0m \u001b[0mthe_lowest\u001b[0m\u001b[0;34m:\u001b[0m\u001b[0;34m\u001b[0m\u001b[0;34m\u001b[0m\u001b[0m\n\u001b[0;32m---> 38\u001b[0;31m             \u001b[0ma\u001b[0m \u001b[0;34m=\u001b[0m \u001b[0minput\u001b[0m\u001b[0;34m(\u001b[0m\u001b[0;34mf\"{arg_1[i]['word']}, \\n\"\u001b[0m\u001b[0;34m)\u001b[0m\u001b[0;34m\u001b[0m\u001b[0;34m\u001b[0m\u001b[0m\n\u001b[0m\u001b[1;32m     39\u001b[0m             \u001b[0;32mif\u001b[0m \u001b[0ma\u001b[0m \u001b[0;34m==\u001b[0m \u001b[0marg_1\u001b[0m\u001b[0;34m[\u001b[0m\u001b[0mi\u001b[0m\u001b[0;34m]\u001b[0m\u001b[0;34m[\u001b[0m\u001b[0;34m\"translation\"\u001b[0m\u001b[0;34m]\u001b[0m\u001b[0;34m:\u001b[0m\u001b[0;34m\u001b[0m\u001b[0;34m\u001b[0m\u001b[0m\n\u001b[1;32m     40\u001b[0m                 \u001b[0marg_1\u001b[0m\u001b[0;34m[\u001b[0m\u001b[0mi\u001b[0m\u001b[0;34m]\u001b[0m\u001b[0;34m[\u001b[0m\u001b[0;34m\"rating\"\u001b[0m\u001b[0;34m]\u001b[0m \u001b[0;34m=\u001b[0m \u001b[0marg_1\u001b[0m\u001b[0;34m[\u001b[0m\u001b[0mi\u001b[0m\u001b[0;34m]\u001b[0m\u001b[0;34m[\u001b[0m\u001b[0;34m\"rating\"\u001b[0m\u001b[0;34m]\u001b[0m \u001b[0;34m+\u001b[0m \u001b[0;36m1\u001b[0m\u001b[0;34m\u001b[0m\u001b[0;34m\u001b[0m\u001b[0m\n",
      "\u001b[0;32m~/anaconda3/lib/python3.9/site-packages/ipykernel/kernelbase.py\u001b[0m in \u001b[0;36mraw_input\u001b[0;34m(self, prompt)\u001b[0m\n\u001b[1;32m   1175\u001b[0m                 \u001b[0;34m\"raw_input was called, but this frontend does not support input requests.\"\u001b[0m\u001b[0;34m\u001b[0m\u001b[0;34m\u001b[0m\u001b[0m\n\u001b[1;32m   1176\u001b[0m             )\n\u001b[0;32m-> 1177\u001b[0;31m         return self._input_request(\n\u001b[0m\u001b[1;32m   1178\u001b[0m             \u001b[0mstr\u001b[0m\u001b[0;34m(\u001b[0m\u001b[0mprompt\u001b[0m\u001b[0;34m)\u001b[0m\u001b[0;34m,\u001b[0m\u001b[0;34m\u001b[0m\u001b[0;34m\u001b[0m\u001b[0m\n\u001b[1;32m   1179\u001b[0m             \u001b[0mself\u001b[0m\u001b[0;34m.\u001b[0m\u001b[0m_parent_ident\u001b[0m\u001b[0;34m[\u001b[0m\u001b[0;34m\"shell\"\u001b[0m\u001b[0;34m]\u001b[0m\u001b[0;34m,\u001b[0m\u001b[0;34m\u001b[0m\u001b[0;34m\u001b[0m\u001b[0m\n",
      "\u001b[0;32m~/anaconda3/lib/python3.9/site-packages/ipykernel/kernelbase.py\u001b[0m in \u001b[0;36m_input_request\u001b[0;34m(self, prompt, ident, parent, password)\u001b[0m\n\u001b[1;32m   1217\u001b[0m             \u001b[0;32mexcept\u001b[0m \u001b[0mKeyboardInterrupt\u001b[0m\u001b[0;34m:\u001b[0m\u001b[0;34m\u001b[0m\u001b[0;34m\u001b[0m\u001b[0m\n\u001b[1;32m   1218\u001b[0m                 \u001b[0;31m# re-raise KeyboardInterrupt, to truncate traceback\u001b[0m\u001b[0;34m\u001b[0m\u001b[0;34m\u001b[0m\u001b[0m\n\u001b[0;32m-> 1219\u001b[0;31m                 \u001b[0;32mraise\u001b[0m \u001b[0mKeyboardInterrupt\u001b[0m\u001b[0;34m(\u001b[0m\u001b[0;34m\"Interrupted by user\"\u001b[0m\u001b[0;34m)\u001b[0m \u001b[0;32mfrom\u001b[0m \u001b[0;32mNone\u001b[0m\u001b[0;34m\u001b[0m\u001b[0;34m\u001b[0m\u001b[0m\n\u001b[0m\u001b[1;32m   1220\u001b[0m             \u001b[0;32mexcept\u001b[0m \u001b[0mException\u001b[0m\u001b[0;34m:\u001b[0m\u001b[0;34m\u001b[0m\u001b[0;34m\u001b[0m\u001b[0m\n\u001b[1;32m   1221\u001b[0m                 \u001b[0mself\u001b[0m\u001b[0;34m.\u001b[0m\u001b[0mlog\u001b[0m\u001b[0;34m.\u001b[0m\u001b[0mwarning\u001b[0m\u001b[0;34m(\u001b[0m\u001b[0;34m\"Invalid Message:\"\u001b[0m\u001b[0;34m,\u001b[0m \u001b[0mexc_info\u001b[0m\u001b[0;34m=\u001b[0m\u001b[0;32mTrue\u001b[0m\u001b[0;34m)\u001b[0m\u001b[0;34m\u001b[0m\u001b[0;34m\u001b[0m\u001b[0m\n",
      "\u001b[0;31mKeyboardInterrupt\u001b[0m: Interrupted by user"
     ]
    }
   ],
   "source": [
    "interactor(my_new_rec)"
   ]
  }
 ],
 "metadata": {
  "interpreter": {
   "hash": "0f83e486f800069005b4aa22b228afe18903a056487fda148fc4fb3214b158c6"
  },
  "kernelspec": {
   "display_name": "Python 3.9.13 ('base')",
   "language": "python",
   "name": "python3"
  },
  "language_info": {
   "codemirror_mode": {
    "name": "ipython",
    "version": 3
   },
   "file_extension": ".py",
   "mimetype": "text/x-python",
   "name": "python",
   "nbconvert_exporter": "python",
   "pygments_lexer": "ipython3",
   "version": "3.9.13"
  },
  "orig_nbformat": 4
 },
 "nbformat": 4,
 "nbformat_minor": 2
}
